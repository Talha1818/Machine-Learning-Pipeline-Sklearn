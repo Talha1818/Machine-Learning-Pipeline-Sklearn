{
 "cells": [
  {
   "cell_type": "code",
   "execution_count": 1,
   "metadata": {},
   "outputs": [],
   "source": [
    "import sklearn\n",
    "import numpy as np\n",
    "from sklearn.model_selection import train_test_split\n",
    "from sklearn.feature_extraction.text import CountVectorizer\n",
    "from sklearn.feature_extraction.text import TfidfTransformer\n",
    "from sklearn import metrics\n",
    "from sklearn.pipeline import Pipeline \n",
    "from sklearn.datasets import load_files\n",
    "from sklearn.metrics import accuracy_score\n",
    "from sklearn.linear_model import SGDClassifier\n",
    "from sklearn.naive_bayes import MultinomialNB\n",
    "from sklearn.ensemble import RandomForestClassifier\n",
    "from sklearn.svm import SVC\n",
    "from sklearn.model_selection import cross_val_score\n",
    "\n",
    "#DATA_DIR = './raw/'\n",
    "DATA_DIR = './cleanRaw/'"
   ]
  },
  {
   "cell_type": "code",
   "execution_count": 2,
   "metadata": {},
   "outputs": [
    {
     "name": "stdout",
     "output_type": "stream",
     "text": [
      "{'democratic': 23, 'republican': 24}\n"
     ]
    }
   ],
   "source": [
    "docs_data = load_files(DATA_DIR, encoding=\"utf-8\", decode_error=\"replace\",\n",
    "    description=None, load_content=True, shuffle=True, random_state=42)\n",
    "\n",
    "#---------------------------------------\n",
    "# For step 2:\n",
    "# read files from the \"raw\" folder and lemmatize the words.\n",
    "# then select only noun and verb.\n",
    "# use the newly created data for the following classification\n",
    "#---------------------------------------\n",
    "\n",
    "# calculate count of each category\n",
    "labels, counts = np.unique(docs_data.target, return_counts=True)\n",
    "\n",
    "# convert data.target_names to np array for indexing\n",
    "labels_str = np.array(docs_data.target_names)[labels]\n",
    "\n",
    "print(dict(zip(labels_str, counts)))"
   ]
  },
  {
   "cell_type": "code",
   "execution_count": 3,
   "metadata": {},
   "outputs": [
    {
     "data": {
      "text/plain": [
       "['democratic', 'republican']"
      ]
     },
     "execution_count": 3,
     "metadata": {},
     "output_type": "execute_result"
    }
   ],
   "source": [
    "docs_data.target_names"
   ]
  },
  {
   "cell_type": "code",
   "execution_count": 4,
   "metadata": {},
   "outputs": [],
   "source": [
    "X_train, X_test, y_train, y_test = train_test_split(docs_data.data,\n",
    "    docs_data.target, test_size=0.2, random_state=42)"
   ]
  },
  {
   "cell_type": "code",
   "execution_count": 5,
   "metadata": {},
   "outputs": [
    {
     "name": "stdout",
     "output_type": "stream",
     "text": [
      "[('SVM', 0.40714285714285714), ('RF', 0.43571428571428567), ('CLF', 0.45357142857142857), ('NB', 0.4607142857142857)]\n",
      "NB\n"
     ]
    }
   ],
   "source": [
    "text_clf = Pipeline([('vect', CountVectorizer()),\n",
    "                     ('tfidf', TfidfTransformer(use_idf=True)),\n",
    "                     ('clf', SGDClassifier(loss='log', penalty='l2',\n",
    "                                           alpha=1e-3, random_state=42)),\n",
    "])\n",
    "\n",
    "text_clf2 = Pipeline([('vect', CountVectorizer()),\n",
    "                     ('tfidf', TfidfTransformer(use_idf=True)),\n",
    "                     ('NB', MultinomialNB()),\n",
    "])\n",
    "\n",
    "#---------\n",
    "text_clf3 = Pipeline([('vect', CountVectorizer()),\n",
    "                     ('tfidf', TfidfTransformer(use_idf=True)),\n",
    "                     ('RF', RandomForestClassifier()),\n",
    "])\n",
    "\n",
    "text_clf4 = Pipeline([('vect', CountVectorizer()),\n",
    "                     ('tfidf', TfidfTransformer(use_idf=True)),\n",
    "                     ('SVM', SVC()),\n",
    "])\n",
    "#---------\n",
    "\n",
    "models = [(\"CLF\", text_clf), (\"NB\", text_clf2), (\"RF\", text_clf3), (\"SVM\", text_clf4)]\n",
    "unsorted_scores = [(name, cross_val_score(model, X_train, y_train, cv=5).mean()) for name, model in models]\n",
    "scores = sorted(unsorted_scores, key=lambda x: x[1])\n",
    "print(scores)  \n",
    "\n",
    "# write a code to select the best classifier \n",
    "\n",
    "get_model_name = scores[-1][0]\n",
    "print(get_model_name)\n",
    "\n",
    "\n",
    "text_clf = [i[1] for i in models if i[0]==get_model_name][0]"
   ]
  },
  {
   "cell_type": "code",
   "execution_count": 6,
   "metadata": {},
   "outputs": [
    {
     "data": {
      "text/plain": [
       "Pipeline(steps=[('vect', CountVectorizer()), ('tfidf', TfidfTransformer()),\n",
       "                ('NB', MultinomialNB())])"
      ]
     },
     "execution_count": 6,
     "metadata": {},
     "output_type": "execute_result"
    }
   ],
   "source": [
    "text_clf"
   ]
  },
  {
   "cell_type": "code",
   "execution_count": 7,
   "metadata": {},
   "outputs": [
    {
     "name": "stdout",
     "output_type": "stream",
     "text": [
      "0.7\n",
      "              precision    recall  f1-score   support\n",
      "\n",
      "  democratic       1.00      0.40      0.57         5\n",
      "  republican       0.62      1.00      0.77         5\n",
      "\n",
      "    accuracy                           0.70        10\n",
      "   macro avg       0.81      0.70      0.67        10\n",
      "weighted avg       0.81      0.70      0.67        10\n",
      "\n"
     ]
    }
   ],
   "source": [
    "#---show only the best performace results: accuracy, other metrics, and confusion matrix\n",
    "text_clf.fit(X_train, y_train)\n",
    "y_pred = text_clf.predict(X_test)\n",
    "print (accuracy_score(y_test, y_pred))\n",
    "\n",
    "print(metrics.classification_report(y_test, y_pred,\n",
    "    target_names=docs_data.target_names))"
   ]
  },
  {
   "cell_type": "code",
   "execution_count": 8,
   "metadata": {},
   "outputs": [
    {
     "data": {
      "image/png": "[encoded data removed]",
      "text/plain": [
       "<Figure size 432x288 with 2 Axes>"
      ]
     },
     "metadata": {
      "needs_background": "light"
     },
     "output_type": "display_data"
    }
   ],
   "source": [
    "from sklearn.metrics import confusion_matrix\n",
    "from sklearn.metrics import ConfusionMatrixDisplay\n",
    "\n",
    "cm = confusion_matrix(y_test, y_pred)\n",
    "cm_display = ConfusionMatrixDisplay(cm, display_labels=docs_data.target_names).plot()"
   ]
  },
  {
   "cell_type": "markdown",
   "metadata": {},
   "source": [
    "### Step 2)"
   ]
  },
  {
   "cell_type": "code",
   "execution_count": 9,
   "metadata": {},
   "outputs": [
    {
     "name": "stdout",
     "output_type": "stream",
     "text": [
      "{'democratic': 23, 'republican': 24}\n"
     ]
    }
   ],
   "source": [
    "DATA_DIR = './raw/'\n",
    "\n",
    "docs_data = load_files(DATA_DIR, encoding=\"utf-8\", decode_error=\"replace\",\n",
    "    description=None, load_content=True, shuffle=True, random_state=42)\n",
    "\n",
    "# calculate count of each category\n",
    "labels, counts = np.unique(docs_data.target, return_counts=True)\n",
    "\n",
    "# convert data.target_names to np array for indexing\n",
    "labels_str = np.array(docs_data.target_names)[labels]\n",
    "\n",
    "print(dict(zip(labels_str, counts)))"
   ]
  },
  {
   "cell_type": "code",
   "execution_count": 10,
   "metadata": {},
   "outputs": [
    {
     "name": "stderr",
     "output_type": "stream",
     "text": [
      "[nltk_data] Downloading package punkt to\n",
      "[nltk_data]     C:\\Users\\muham\\AppData\\Roaming\\nltk_data...\n",
      "[nltk_data]   Package punkt is already up-to-date!\n",
      "[nltk_data] Downloading package averaged_perceptron_tagger to\n",
      "[nltk_data]     C:\\Users\\muham\\AppData\\Roaming\\nltk_data...\n",
      "[nltk_data]   Package averaged_perceptron_tagger is already up-to-\n",
      "[nltk_data]       date!\n"
     ]
    }
   ],
   "source": [
    "# import these modules\n",
    "import nltk\n",
    "nltk.download('punkt')\n",
    "nltk.download('averaged_perceptron_tagger')\n",
    "\n",
    "from nltk.stem import WordNetLemmatizer\n",
    "lemmatizer = WordNetLemmatizer()"
   ]
  },
  {
   "cell_type": "code",
   "execution_count": 11,
   "metadata": {},
   "outputs": [],
   "source": [
    "final_text = []\n",
    "for i in docs_data.data:\n",
    "    word_list = i.split() # Tokenize: Split the sentence into words\n",
    "    lemmatized_output = ' '.join([lemmatizer.lemmatize(w) for w in word_list]) # Lemmatize list of words and join\n",
    "    extract_noun_verb = ' '.join([word for (word, pos) in nltk.pos_tag(lemmatized_output.split()) if(pos[:2] == 'NN') \\\n",
    "                                  or (pos[:2] == 'VB')]) # select only noun and verb.   \n",
    "    final_text.append(extract_noun_verb)"
   ]
  },
  {
   "cell_type": "code",
   "execution_count": 12,
   "metadata": {},
   "outputs": [],
   "source": [
    "X_train, X_test, y_train, y_test = train_test_split(final_text,\n",
    "    docs_data.target, test_size=0.2, random_state=42)"
   ]
  },
  {
   "cell_type": "code",
   "execution_count": 13,
   "metadata": {},
   "outputs": [
    {
     "name": "stdout",
     "output_type": "stream",
     "text": [
      "[('SVM', 0.3821428571428571), ('NB', 0.4107142857142857), ('RF', 0.46428571428571425), ('CLF', 0.4892857142857142)]\n",
      "CLF\n"
     ]
    }
   ],
   "source": [
    "text_clf = Pipeline([('vect', CountVectorizer()),\n",
    "                     ('tfidf', TfidfTransformer(use_idf=True)),\n",
    "                     ('clf', SGDClassifier(loss='log', penalty='l2',\n",
    "                                           alpha=1e-3, random_state=42)),\n",
    "])\n",
    "\n",
    "text_clf2 = Pipeline([('vect', CountVectorizer()),\n",
    "                     ('tfidf', TfidfTransformer(use_idf=True)),\n",
    "                     ('NB', MultinomialNB()),\n",
    "])\n",
    "\n",
    "#---------\n",
    "text_clf3 = Pipeline([('vect', CountVectorizer()),\n",
    "                     ('tfidf', TfidfTransformer(use_idf=True)),\n",
    "                     ('RF', RandomForestClassifier()),\n",
    "])\n",
    "\n",
    "text_clf4 = Pipeline([('vect', CountVectorizer()),\n",
    "                     ('tfidf', TfidfTransformer(use_idf=True)),\n",
    "                     ('SVM', SVC()),\n",
    "])\n",
    "#---------\n",
    "\n",
    "models = [(\"CLF\", text_clf), (\"NB\", text_clf2), (\"RF\", text_clf3), (\"SVM\", text_clf4)]\n",
    "unsorted_scores = [(name, cross_val_score(model, X_train, y_train, cv=5).mean()) for name, model in models]\n",
    "scores = sorted(unsorted_scores, key=lambda x: x[1])\n",
    "print(scores)  \n",
    "\n",
    "# write a code to select the best classifier \n",
    "\n",
    "get_model_name = scores[-1][0]\n",
    "print(get_model_name)\n",
    "\n",
    "\n",
    "text_clf = [i[1] for i in models if i[0]==get_model_name][0]"
   ]
  },
  {
   "cell_type": "code",
   "execution_count": 14,
   "metadata": {},
   "outputs": [
    {
     "name": "stdout",
     "output_type": "stream",
     "text": [
      "0.6\n",
      "              precision    recall  f1-score   support\n",
      "\n",
      "  democratic       0.67      0.40      0.50         5\n",
      "  republican       0.57      0.80      0.67         5\n",
      "\n",
      "    accuracy                           0.60        10\n",
      "   macro avg       0.62      0.60      0.58        10\n",
      "weighted avg       0.62      0.60      0.58        10\n",
      "\n"
     ]
    }
   ],
   "source": [
    "#---show only the best performace results: accuracy, other metrics, and confusion matrix\n",
    "text_clf.fit(X_train, y_train)\n",
    "y_pred = text_clf.predict(X_test)\n",
    "print (accuracy_score(y_test, y_pred))\n",
    "\n",
    "print(metrics.classification_report(y_test, y_pred,\n",
    "    target_names=docs_data.target_names))"
   ]
  },
  {
   "cell_type": "code",
   "execution_count": 15,
   "metadata": {},
   "outputs": [
    {
     "data": {
      "image/png": "[encoded data removed]",
      "text/plain": [
       "<Figure size 432x288 with 2 Axes>"
      ]
     },
     "metadata": {
      "needs_background": "light"
     },
     "output_type": "display_data"
    }
   ],
   "source": [
    "from sklearn.metrics import confusion_matrix\n",
    "from sklearn.metrics import ConfusionMatrixDisplay\n",
    "\n",
    "cm = confusion_matrix(y_test, y_pred)\n",
    "cm_display = ConfusionMatrixDisplay(cm, display_labels=docs_data.target_names).plot()"
   ]
  }
 ],
 "metadata": {
  "kernelspec": {
   "display_name": "Python 3 (ipykernel)",
   "language": "python",
   "name": "python3"
  },
  "language_info": {
   "codemirror_mode": {
    "name": "ipython",
    "version": 3
   },
   "file_extension": ".py",
   "mimetype": "text/x-python",
   "name": "python",
   "nbconvert_exporter": "python",
   "pygments_lexer": "ipython3",
   "version": "3.9.7"
  }
 },
 "nbformat": 4,
 "nbformat_minor": 4
}
